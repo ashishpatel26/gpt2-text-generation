{
  "nbformat": 4,
  "nbformat_minor": 0,
  "metadata": {
    "colab": {
      "name": "prepare_data",
      "provenance": [],
      "collapsed_sections": []
    },
    "kernelspec": {
      "name": "python3",
      "display_name": "Python 3"
    }
  },
  "cells": [
    {
      "cell_type": "code",
      "metadata": {
        "id": "rViSuE9cb205",
        "colab_type": "code",
        "colab": {}
      },
      "source": [
        "import re\n",
        "import nltk\n",
        "import string\n",
        "import pandas as pd\n",
        "from sklearn.model_selection import train_test_split"
      ],
      "execution_count": null,
      "outputs": []
    },
    {
      "cell_type": "code",
      "metadata": {
        "id": "b_eHa541XFdm",
        "colab_type": "code",
        "colab": {
          "base_uri": "https://localhost:8080/",
          "height": 218
        },
        "outputId": "9ac428ea-78cc-4804-f73e-7af64deab2cb"
      },
      "source": [
        "df=pd.read_csv(\"blog_content and titles.csv\")\n",
        "df.fillna('',inplace=True)\n",
        "\n",
        "def removeSpaces(s):\n",
        "    return re.sub(' +', ' ',s)\n",
        "\n",
        "def preprocess(text):\n",
        "  \n",
        "  # text = re.sub(r\"[^A-Za-z0-9]\", \" \", text)  \n",
        "  text = removeSpaces(text)\n",
        "  \n",
        "  return text\n",
        "\n",
        "def preprocess_blogs(post_content):\n",
        "  \n",
        "  post_content = ' '.join([line for line in post_content.split('\\n') if line!=''])\n",
        "  post_content = post_content.replace(\"\\t\", ' ')\n",
        "  post_content = preprocess(post_content)\n",
        "  \n",
        "  \n",
        "  all_text = sent_tokenize(post_content)\n",
        "  # print(all_text)\n",
        "  return all_text\n",
        "if sent==True:\n",
        "  text = df['content'].apply(preprocess_blogs)\n",
        "else:\n",
        "  df['content'] = df['content'].apply(prep)\n",
        "print(text)"
      ],
      "execution_count": 94,
      "outputs": [
        {
          "output_type": "stream",
          "text": [
            "0     [We had a bunch of virtual social activities i...\n",
            "1     [I wish I didn't have a headache from lying in...\n",
            "2     [Do not look for Appropriate joke #1, it doesn...\n",
            "3     [Dreams are fantastic affairs these days., It ...\n",
            "4     [I didn't realize until my birthday two weeks ...\n",
            "                            ...                        \n",
            "71    [Whenever I can, I visit the Indian Coffee Hou...\n",
            "72    [These have been a couple of long days, long w...\n",
            "73    [So I was initially writing about Math and Me,...\n",
            "74    [Final year/semester of B.Tech - You realize y...\n",
            "75    [Here I present before you the story of X, a t...\n",
            "Name: content, Length: 76, dtype: object\n"
          ],
          "name": "stdout"
        }
      ]
    },
    {
      "cell_type": "code",
      "metadata": {
        "id": "_OBrisPxlwZM",
        "colab_type": "code",
        "colab": {
          "base_uri": "https://localhost:8080/",
          "height": 34
        },
        "outputId": "50c21897-a6ae-4050-8965-09cea356ad6d"
      },
      "source": [
        "# specify whether to be split by full post or sentence\n",
        "sent = True\n",
        "if sent==True:\n",
        "  text = df['content'].apply(preprocess_blogs)\n",
        "  all_content = []\n",
        "  for each in text:\n",
        "    all_content.extend([one for one in each])\n",
        "  print(f\"Number of tokens in total: {sum([len(each) for each in all_content])}\")    \n",
        "  df = pd.DataFrame({'content': all_content})  \n",
        "  \n",
        "else:\n",
        "  df['content'] = df['content'].apply(preprocess_blogs)\n"
      ],
      "execution_count": 115,
      "outputs": [
        {
          "output_type": "stream",
          "text": [
            "Number of tokens in total: 246446\n"
          ],
          "name": "stdout"
        }
      ]
    },
    {
      "cell_type": "code",
      "metadata": {
        "id": "BKOSuH6Hptlb",
        "colab_type": "code",
        "colab": {
          "base_uri": "https://localhost:8080/",
          "height": 34
        },
        "outputId": "d5b45ff6-f657-4baa-9e62-461f16958b83"
      },
      "source": [
        "print(f\"Number of documents for train/val/split: {len(df['content'])}\")"
      ],
      "execution_count": 116,
      "outputs": [
        {
          "output_type": "stream",
          "text": [
            "Number of documents for train/val/split: 2752\n"
          ],
          "name": "stdout"
        }
      ]
    },
    {
      "cell_type": "code",
      "metadata": {
        "id": "n0DSH755cIQj",
        "colab_type": "code",
        "colab": {}
      },
      "source": [
        "train_test_ratio = 0.9\n",
        "train_valid_ratio = 7/9\n",
        "df_full_train, df_test = train_test_split(df, train_size = train_test_ratio, random_state = 1)\n",
        "df_train, df_valid = train_test_split(df_full_train, train_size = train_valid_ratio, random_state = 1)\n",
        "\n",
        "def build_dataset(text, path):\n",
        "    f = open(path, 'w')\n",
        "    data = ''\n",
        "    posts = df['content'].tolist()\n",
        "    for post in posts:\n",
        "        post = str(post).strip()\n",
        "        bos_token = '<BOS>'\n",
        "        eos_token = '<EOS>'\n",
        "        data += bos_token + ' ' + post + ' ' + eos_token + '\\n'\n",
        "        print(data)\n",
        "    f.write(data)"
      ],
      "execution_count": 117,
      "outputs": []
    },
    {
      "cell_type": "code",
      "metadata": {
        "id": "PIvZ3m6CjZ8g",
        "colab_type": "code",
        "colab": {}
      },
      "source": [
        "build_dataset(df_train, 'train.txt')\n",
        "build_dataset(df_valid, 'valid.txt')\n",
        "build_dataset(df_test, 'test.txt')"
      ],
      "execution_count": 118,
      "outputs": []
    },
    {
      "cell_type": "code",
      "metadata": {
        "id": "KsgGxPkbjw6i",
        "colab_type": "code",
        "colab": {
          "base_uri": "https://localhost:8080/",
          "height": 17
        },
        "outputId": "aab2aede-e50f-44c5-9e3d-2d7de987a8d2"
      },
      "source": [
        "from google.colab import files\n",
        "import glob\n",
        "txt_files = glob.glob(\"*.txt\")\n",
        "for file in txt_files:\n",
        "  files.download(file)"
      ],
      "execution_count": 119,
      "outputs": [
        {
          "output_type": "display_data",
          "data": {
            "application/javascript": [
              "\n",
              "    async function download(id, filename, size) {\n",
              "      if (!google.colab.kernel.accessAllowed) {\n",
              "        return;\n",
              "      }\n",
              "      const div = document.createElement('div');\n",
              "      const label = document.createElement('label');\n",
              "      label.textContent = `Downloading \"${filename}\": `;\n",
              "      div.appendChild(label);\n",
              "      const progress = document.createElement('progress');\n",
              "      progress.max = size;\n",
              "      div.appendChild(progress);\n",
              "      document.body.appendChild(div);\n",
              "\n",
              "      const buffers = [];\n",
              "      let downloaded = 0;\n",
              "\n",
              "      const channel = await google.colab.kernel.comms.open(id);\n",
              "      // Send a message to notify the kernel that we're ready.\n",
              "      channel.send({})\n",
              "\n",
              "      for await (const message of channel.messages) {\n",
              "        // Send a message to notify the kernel that we're ready.\n",
              "        channel.send({})\n",
              "        if (message.buffers) {\n",
              "          for (const buffer of message.buffers) {\n",
              "            buffers.push(buffer);\n",
              "            downloaded += buffer.byteLength;\n",
              "            progress.value = downloaded;\n",
              "          }\n",
              "        }\n",
              "      }\n",
              "      const blob = new Blob(buffers, {type: 'application/binary'});\n",
              "      const a = document.createElement('a');\n",
              "      a.href = window.URL.createObjectURL(blob);\n",
              "      a.download = filename;\n",
              "      div.appendChild(a);\n",
              "      a.click();\n",
              "      div.remove();\n",
              "    }\n",
              "  "
            ],
            "text/plain": [
              "<IPython.core.display.Javascript object>"
            ]
          },
          "metadata": {
            "tags": []
          }
        },
        {
          "output_type": "display_data",
          "data": {
            "application/javascript": [
              "download(\"download_4b784267-bd84-420b-aaa6-82a21a29e3a9\", \"test.txt\", 282221)"
            ],
            "text/plain": [
              "<IPython.core.display.Javascript object>"
            ]
          },
          "metadata": {
            "tags": []
          }
        },
        {
          "output_type": "display_data",
          "data": {
            "application/javascript": [
              "\n",
              "    async function download(id, filename, size) {\n",
              "      if (!google.colab.kernel.accessAllowed) {\n",
              "        return;\n",
              "      }\n",
              "      const div = document.createElement('div');\n",
              "      const label = document.createElement('label');\n",
              "      label.textContent = `Downloading \"${filename}\": `;\n",
              "      div.appendChild(label);\n",
              "      const progress = document.createElement('progress');\n",
              "      progress.max = size;\n",
              "      div.appendChild(progress);\n",
              "      document.body.appendChild(div);\n",
              "\n",
              "      const buffers = [];\n",
              "      let downloaded = 0;\n",
              "\n",
              "      const channel = await google.colab.kernel.comms.open(id);\n",
              "      // Send a message to notify the kernel that we're ready.\n",
              "      channel.send({})\n",
              "\n",
              "      for await (const message of channel.messages) {\n",
              "        // Send a message to notify the kernel that we're ready.\n",
              "        channel.send({})\n",
              "        if (message.buffers) {\n",
              "          for (const buffer of message.buffers) {\n",
              "            buffers.push(buffer);\n",
              "            downloaded += buffer.byteLength;\n",
              "            progress.value = downloaded;\n",
              "          }\n",
              "        }\n",
              "      }\n",
              "      const blob = new Blob(buffers, {type: 'application/binary'});\n",
              "      const a = document.createElement('a');\n",
              "      a.href = window.URL.createObjectURL(blob);\n",
              "      a.download = filename;\n",
              "      div.appendChild(a);\n",
              "      a.click();\n",
              "      div.remove();\n",
              "    }\n",
              "  "
            ],
            "text/plain": [
              "<IPython.core.display.Javascript object>"
            ]
          },
          "metadata": {
            "tags": []
          }
        },
        {
          "output_type": "display_data",
          "data": {
            "application/javascript": [
              "download(\"download_d55c1c7a-39e4-474c-b215-7e3a95119aad\", \"train.txt\", 282221)"
            ],
            "text/plain": [
              "<IPython.core.display.Javascript object>"
            ]
          },
          "metadata": {
            "tags": []
          }
        },
        {
          "output_type": "display_data",
          "data": {
            "application/javascript": [
              "\n",
              "    async function download(id, filename, size) {\n",
              "      if (!google.colab.kernel.accessAllowed) {\n",
              "        return;\n",
              "      }\n",
              "      const div = document.createElement('div');\n",
              "      const label = document.createElement('label');\n",
              "      label.textContent = `Downloading \"${filename}\": `;\n",
              "      div.appendChild(label);\n",
              "      const progress = document.createElement('progress');\n",
              "      progress.max = size;\n",
              "      div.appendChild(progress);\n",
              "      document.body.appendChild(div);\n",
              "\n",
              "      const buffers = [];\n",
              "      let downloaded = 0;\n",
              "\n",
              "      const channel = await google.colab.kernel.comms.open(id);\n",
              "      // Send a message to notify the kernel that we're ready.\n",
              "      channel.send({})\n",
              "\n",
              "      for await (const message of channel.messages) {\n",
              "        // Send a message to notify the kernel that we're ready.\n",
              "        channel.send({})\n",
              "        if (message.buffers) {\n",
              "          for (const buffer of message.buffers) {\n",
              "            buffers.push(buffer);\n",
              "            downloaded += buffer.byteLength;\n",
              "            progress.value = downloaded;\n",
              "          }\n",
              "        }\n",
              "      }\n",
              "      const blob = new Blob(buffers, {type: 'application/binary'});\n",
              "      const a = document.createElement('a');\n",
              "      a.href = window.URL.createObjectURL(blob);\n",
              "      a.download = filename;\n",
              "      div.appendChild(a);\n",
              "      a.click();\n",
              "      div.remove();\n",
              "    }\n",
              "  "
            ],
            "text/plain": [
              "<IPython.core.display.Javascript object>"
            ]
          },
          "metadata": {
            "tags": []
          }
        },
        {
          "output_type": "display_data",
          "data": {
            "application/javascript": [
              "download(\"download_dce57a23-c811-4251-8e14-663e5cdabef1\", \"valid.txt\", 282221)"
            ],
            "text/plain": [
              "<IPython.core.display.Javascript object>"
            ]
          },
          "metadata": {
            "tags": []
          }
        }
      ]
    },
    {
      "cell_type": "code",
      "metadata": {
        "id": "jtD17wXGmPtf",
        "colab_type": "code",
        "colab": {}
      },
      "source": [
        ""
      ],
      "execution_count": null,
      "outputs": []
    }
  ]
}